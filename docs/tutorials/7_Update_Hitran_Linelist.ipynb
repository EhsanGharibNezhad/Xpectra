{
 "cells": [
  {
   "cell_type": "markdown",
   "id": "d4e6a909",
   "metadata": {},
   "source": [
    "# **7.** Update Hitran Linelist\n",
    "***"
   ]
  },
  {
   "cell_type": "markdown",
   "id": "4327c0eb",
   "metadata": {
    "editable": true,
    "slideshow": {
     "slide_type": ""
    },
    "tags": []
   },
   "source": [
    "## Table of Contents\n",
    "* [7.1 | Handle/load the HITRAN line list- parse file](#7.1---Handle/load-HITRAN-linelist,-parse-file)\n",
    "    * Extracting J quantum number and symmetry from local quanta\n",
    "* [7.2 | EDA on HITRAN data](#7.2---EDA-on-HITRAN-data)\n",
    "    *  J_low, symmetry, etc. \n",
    "* [7.3 | Load 4th Pade fitted pressure broadening coefficients](#7.3---Load-fitted-pressure-broadening-coefficients)\n",
    "* [7.4 | Update HITRAN with fitted pressure broadening data](#7.4---Update-HITRAN-with-fitted-P-bro-data)\n",
    "    * Using fitted coefficients for each symmetry, calculate gamma_L for H2/He and calculate nT\n",
    "    * Update line-by-line\n",
    "    * Using multiple CPUs"
   ]
  },
  {
   "cell_type": "code",
   "execution_count": 16,
   "id": "f7ee8d2a",
   "metadata": {},
   "outputs": [],
   "source": [
    "# Import module\n",
    "from Xpectra.FitLiteratureData import *\n",
    "from Xpectra.LineAssigner import *"
   ]
  },
  {
   "cell_type": "markdown",
   "id": "43af1d49",
   "metadata": {},
   "source": [
    "## **7.1** - Handle/load HITRAN linelist, parse file"
   ]
  },
  {
   "cell_type": "code",
   "execution_count": 17,
   "id": "390f6786",
   "metadata": {},
   "outputs": [],
   "source": [
    "# Call environment variable and assign path to data\n",
    "__reference_data_path__ = os.getenv(\"Xpectra_reference_data\")\n",
    "\n",
    "# Define file path\n",
    "hitran_file = os.path.join(__reference_data_path__,'datasets','CH4_nu3.par')"
   ]
  },
  {
   "cell_type": "markdown",
   "id": "8714e6f2-b966-45fa-9f0e-3576719603a0",
   "metadata": {},
   "source": [
    "$\\rightarrow$ Initialize class: FitLiteratureData"
   ]
  },
  {
   "cell_type": "code",
   "execution_count": 18,
   "id": "a6008ca0",
   "metadata": {},
   "outputs": [],
   "source": [
    "# Create instance using path to HITRAN .par file\n",
    "update_hitran = FitLiteratureData(hitran_file = hitran_file,\n",
    "                                 __reference_data__ = __reference_data_path__)"
   ]
  },
  {
   "cell_type": "markdown",
   "id": "ddb4059c",
   "metadata": {},
   "source": [
    "$\\rightarrow$ With the class initialized, lets load the line list into memory by parsing the file into a DataFrame.\n",
    "\n",
    "$\\rightarrow$ Here we are also extracting J_low and symmetry C_low from local quanta expression "
   ]
  },
  {
   "cell_type": "code",
   "execution_count": 19,
   "id": "d6daec66",
   "metadata": {},
   "outputs": [],
   "source": [
    "# Parse file to DataFrame\n",
    "update_hitran.parse_hitran_file()"
   ]
  },
  {
   "cell_type": "markdown",
   "id": "62945a28",
   "metadata": {},
   "source": [
    "## **7.2** - EDA on HITRAN data"
   ]
  },
  {
   "cell_type": "markdown",
   "id": "8eee2247-871b-4b3e-afbf-ac2197f1b5e7",
   "metadata": {},
   "source": [
    "$\\rightarrow$ Let's explore the available data "
   ]
  },
  {
   "cell_type": "code",
   "execution_count": 20,
   "id": "0b2d8702",
   "metadata": {},
   "outputs": [
    {
     "data": {
      "text/html": [
       "<div>\n",
       "<style scoped>\n",
       "    .dataframe tbody tr th:only-of-type {\n",
       "        vertical-align: middle;\n",
       "    }\n",
       "\n",
       "    .dataframe tbody tr th {\n",
       "        vertical-align: top;\n",
       "    }\n",
       "\n",
       "    .dataframe thead th {\n",
       "        text-align: right;\n",
       "    }\n",
       "</style>\n",
       "<table border=\"1\" class=\"dataframe\">\n",
       "  <thead>\n",
       "    <tr style=\"text-align: right;\">\n",
       "      <th></th>\n",
       "      <th>molec_id</th>\n",
       "      <th>local_iso_id</th>\n",
       "      <th>nu</th>\n",
       "      <th>sw</th>\n",
       "      <th>gamma_air</th>\n",
       "      <th>gamma_self</th>\n",
       "      <th>n_air</th>\n",
       "      <th>local_upper_quanta</th>\n",
       "      <th>local_lower_quanta</th>\n",
       "      <th>J_low</th>\n",
       "      <th>sym_low</th>\n",
       "      <th>N_low</th>\n",
       "      <th>J_up</th>\n",
       "      <th>sym_up</th>\n",
       "      <th>N_up</th>\n",
       "    </tr>\n",
       "  </thead>\n",
       "  <tbody>\n",
       "    <tr>\n",
       "      <th>0</th>\n",
       "      <td>6</td>\n",
       "      <td>2</td>\n",
       "      <td>2900.000621</td>\n",
       "      <td>1.825000e-25</td>\n",
       "      <td>0.049</td>\n",
       "      <td>0.067</td>\n",
       "      <td>0.63</td>\n",
       "      <td>13A2  9</td>\n",
       "      <td>12A1  1</td>\n",
       "      <td>12</td>\n",
       "      <td>A1</td>\n",
       "      <td>1</td>\n",
       "      <td>13</td>\n",
       "      <td>A2</td>\n",
       "      <td>9</td>\n",
       "    </tr>\n",
       "    <tr>\n",
       "      <th>1</th>\n",
       "      <td>6</td>\n",
       "      <td>2</td>\n",
       "      <td>2900.005693</td>\n",
       "      <td>6.307000e-27</td>\n",
       "      <td>0.047</td>\n",
       "      <td>0.065</td>\n",
       "      <td>0.62</td>\n",
       "      <td>14F1 40</td>\n",
       "      <td>14F2  3</td>\n",
       "      <td>14</td>\n",
       "      <td>F2</td>\n",
       "      <td>3</td>\n",
       "      <td>14</td>\n",
       "      <td>F1</td>\n",
       "      <td>40</td>\n",
       "    </tr>\n",
       "    <tr>\n",
       "      <th>2</th>\n",
       "      <td>6</td>\n",
       "      <td>2</td>\n",
       "      <td>2900.022027</td>\n",
       "      <td>3.048000e-27</td>\n",
       "      <td>0.046</td>\n",
       "      <td>0.060</td>\n",
       "      <td>0.61</td>\n",
       "      <td>17F1 47</td>\n",
       "      <td>17F2  2</td>\n",
       "      <td>17</td>\n",
       "      <td>F2</td>\n",
       "      <td>2</td>\n",
       "      <td>17</td>\n",
       "      <td>F1</td>\n",
       "      <td>47</td>\n",
       "    </tr>\n",
       "    <tr>\n",
       "      <th>3</th>\n",
       "      <td>6</td>\n",
       "      <td>1</td>\n",
       "      <td>2900.027223</td>\n",
       "      <td>1.891000e-25</td>\n",
       "      <td>0.048</td>\n",
       "      <td>0.067</td>\n",
       "      <td>0.63</td>\n",
       "      <td>13F2 21</td>\n",
       "      <td>12F1  3</td>\n",
       "      <td>12</td>\n",
       "      <td>F1</td>\n",
       "      <td>3</td>\n",
       "      <td>13</td>\n",
       "      <td>F2</td>\n",
       "      <td>21</td>\n",
       "    </tr>\n",
       "    <tr>\n",
       "      <th>4</th>\n",
       "      <td>6</td>\n",
       "      <td>2</td>\n",
       "      <td>2900.035027</td>\n",
       "      <td>1.905000e-25</td>\n",
       "      <td>0.040</td>\n",
       "      <td>0.067</td>\n",
       "      <td>0.63</td>\n",
       "      <td>12E  25</td>\n",
       "      <td>12E   2</td>\n",
       "      <td>12</td>\n",
       "      <td>E</td>\n",
       "      <td>2</td>\n",
       "      <td>12</td>\n",
       "      <td>E</td>\n",
       "      <td>25</td>\n",
       "    </tr>\n",
       "  </tbody>\n",
       "</table>\n",
       "</div>"
      ],
      "text/plain": [
       "   molec_id  local_iso_id           nu            sw  gamma_air  gamma_self  \\\n",
       "0         6             2  2900.000621  1.825000e-25      0.049       0.067   \n",
       "1         6             2  2900.005693  6.307000e-27      0.047       0.065   \n",
       "2         6             2  2900.022027  3.048000e-27      0.046       0.060   \n",
       "3         6             1  2900.027223  1.891000e-25      0.048       0.067   \n",
       "4         6             2  2900.035027  1.905000e-25      0.040       0.067   \n",
       "\n",
       "   n_air local_upper_quanta local_lower_quanta J_low sym_low N_low J_up  \\\n",
       "0   0.63            13A2  9            12A1  1    12      A1     1   13   \n",
       "1   0.62            14F1 40            14F2  3    14      F2     3   14   \n",
       "2   0.61            17F1 47            17F2  2    17      F2     2   17   \n",
       "3   0.63            13F2 21            12F1  3    12      F1     3   13   \n",
       "4   0.63            12E  25            12E   2    12       E     2   12   \n",
       "\n",
       "  sym_up N_up  \n",
       "0     A2    9  \n",
       "1     F1   40  \n",
       "2     F1   47  \n",
       "3     F2   21  \n",
       "4      E   25  "
      ]
     },
     "execution_count": 20,
     "metadata": {},
     "output_type": "execute_result"
    }
   ],
   "source": [
    "# Show header and first 5 columns\n",
    "update_hitran.hitran_df.head()"
   ]
  },
  {
   "cell_type": "markdown",
   "id": "051ed5c6-59b9-431a-9f0d-7c2f1ff1b296",
   "metadata": {},
   "source": [
    "$\\rightarrow$ The quanta expressions are now separated into their parts:"
   ]
  },
  {
   "cell_type": "code",
   "execution_count": 21,
   "id": "98f734d8",
   "metadata": {},
   "outputs": [
    {
     "data": {
      "text/html": [
       "<div>\n",
       "<style scoped>\n",
       "    .dataframe tbody tr th:only-of-type {\n",
       "        vertical-align: middle;\n",
       "    }\n",
       "\n",
       "    .dataframe tbody tr th {\n",
       "        vertical-align: top;\n",
       "    }\n",
       "\n",
       "    .dataframe thead th {\n",
       "        text-align: right;\n",
       "    }\n",
       "</style>\n",
       "<table border=\"1\" class=\"dataframe\">\n",
       "  <thead>\n",
       "    <tr style=\"text-align: right;\">\n",
       "      <th></th>\n",
       "      <th>local_upper_quanta</th>\n",
       "      <th>J_up</th>\n",
       "      <th>N_up</th>\n",
       "      <th>sym_up</th>\n",
       "      <th>local_lower_quanta</th>\n",
       "      <th>J_low</th>\n",
       "      <th>N_low</th>\n",
       "      <th>sym_low</th>\n",
       "    </tr>\n",
       "  </thead>\n",
       "  <tbody>\n",
       "    <tr>\n",
       "      <th>0</th>\n",
       "      <td>13A2  9</td>\n",
       "      <td>13</td>\n",
       "      <td>9</td>\n",
       "      <td>A2</td>\n",
       "      <td>12A1  1</td>\n",
       "      <td>12</td>\n",
       "      <td>1</td>\n",
       "      <td>A1</td>\n",
       "    </tr>\n",
       "    <tr>\n",
       "      <th>1</th>\n",
       "      <td>14F1 40</td>\n",
       "      <td>14</td>\n",
       "      <td>40</td>\n",
       "      <td>F1</td>\n",
       "      <td>14F2  3</td>\n",
       "      <td>14</td>\n",
       "      <td>3</td>\n",
       "      <td>F2</td>\n",
       "    </tr>\n",
       "    <tr>\n",
       "      <th>2</th>\n",
       "      <td>17F1 47</td>\n",
       "      <td>17</td>\n",
       "      <td>47</td>\n",
       "      <td>F1</td>\n",
       "      <td>17F2  2</td>\n",
       "      <td>17</td>\n",
       "      <td>2</td>\n",
       "      <td>F2</td>\n",
       "    </tr>\n",
       "    <tr>\n",
       "      <th>3</th>\n",
       "      <td>13F2 21</td>\n",
       "      <td>13</td>\n",
       "      <td>21</td>\n",
       "      <td>F2</td>\n",
       "      <td>12F1  3</td>\n",
       "      <td>12</td>\n",
       "      <td>3</td>\n",
       "      <td>F1</td>\n",
       "    </tr>\n",
       "    <tr>\n",
       "      <th>4</th>\n",
       "      <td>12E  25</td>\n",
       "      <td>12</td>\n",
       "      <td>25</td>\n",
       "      <td>E</td>\n",
       "      <td>12E   2</td>\n",
       "      <td>12</td>\n",
       "      <td>2</td>\n",
       "      <td>E</td>\n",
       "    </tr>\n",
       "    <tr>\n",
       "      <th>5</th>\n",
       "      <td>18 10  E</td>\n",
       "      <td>18</td>\n",
       "      <td>10</td>\n",
       "      <td>E</td>\n",
       "      <td>19  7  E</td>\n",
       "      <td>19</td>\n",
       "      <td>7</td>\n",
       "      <td>E</td>\n",
       "    </tr>\n",
       "    <tr>\n",
       "      <th>6</th>\n",
       "      <td>14F2 40</td>\n",
       "      <td>14</td>\n",
       "      <td>40</td>\n",
       "      <td>F2</td>\n",
       "      <td>14F1  1</td>\n",
       "      <td>14</td>\n",
       "      <td>1</td>\n",
       "      <td>F1</td>\n",
       "    </tr>\n",
       "    <tr>\n",
       "      <th>7</th>\n",
       "      <td>12F1 36</td>\n",
       "      <td>12</td>\n",
       "      <td>36</td>\n",
       "      <td>F1</td>\n",
       "      <td>12F2  3</td>\n",
       "      <td>12</td>\n",
       "      <td>3</td>\n",
       "      <td>F2</td>\n",
       "    </tr>\n",
       "    <tr>\n",
       "      <th>8</th>\n",
       "      <td>13F1 22</td>\n",
       "      <td>13</td>\n",
       "      <td>22</td>\n",
       "      <td>F1</td>\n",
       "      <td>12F2  2</td>\n",
       "      <td>12</td>\n",
       "      <td>2</td>\n",
       "      <td>F2</td>\n",
       "    </tr>\n",
       "    <tr>\n",
       "      <th>9</th>\n",
       "      <td>13  8  E</td>\n",
       "      <td>13</td>\n",
       "      <td>8</td>\n",
       "      <td>E</td>\n",
       "      <td>14  1  E</td>\n",
       "      <td>14</td>\n",
       "      <td>1</td>\n",
       "      <td>E</td>\n",
       "    </tr>\n",
       "  </tbody>\n",
       "</table>\n",
       "</div>"
      ],
      "text/plain": [
       "  local_upper_quanta J_up N_up sym_up local_lower_quanta J_low N_low sym_low\n",
       "0            13A2  9   13    9     A2            12A1  1    12     1      A1\n",
       "1            14F1 40   14   40     F1            14F2  3    14     3      F2\n",
       "2            17F1 47   17   47     F1            17F2  2    17     2      F2\n",
       "3            13F2 21   13   21     F2            12F1  3    12     3      F1\n",
       "4            12E  25   12   25      E            12E   2    12     2       E\n",
       "5           18 10  E   18   10      E           19  7  E    19     7       E\n",
       "6            14F2 40   14   40     F2            14F1  1    14     1      F1\n",
       "7            12F1 36   12   36     F1            12F2  3    12     3      F2\n",
       "8            13F1 22   13   22     F1            12F2  2    12     2      F2\n",
       "9           13  8  E   13    8      E           14  1  E    14     1       E"
      ]
     },
     "execution_count": 21,
     "metadata": {},
     "output_type": "execute_result"
    }
   ],
   "source": [
    "update_hitran.hitran_df[['local_upper_quanta','J_up','N_up','sym_up', 'local_lower_quanta','J_low','N_low','sym_low']].head(10)"
   ]
  },
  {
   "cell_type": "code",
   "execution_count": 22,
   "id": "8dcf0296",
   "metadata": {
    "editable": true,
    "slideshow": {
     "slide_type": ""
    },
    "tags": []
   },
   "outputs": [
    {
     "data": {
      "text/plain": [
       "array(['A1', 'F2', 'F1', 'E', 'A2'], dtype=object)"
      ]
     },
     "execution_count": 22,
     "metadata": {},
     "output_type": "execute_result"
    }
   ],
   "source": [
    "# Check symmetries\n",
    "update_hitran.hitran_df['sym_low'].dropna().unique()"
   ]
  },
  {
   "cell_type": "markdown",
   "id": "54435f38-eadc-4360-83d0-c235a4a82cb1",
   "metadata": {},
   "source": [
    "$\\rightarrow$ The distribution and range of J quantum number in this HITRAN line list:"
   ]
  },
  {
   "cell_type": "code",
   "execution_count": 23,
   "id": "fafa2ea8",
   "metadata": {},
   "outputs": [
    {
     "data": {
      "image/png": "[encoded data removed]",
      "text/plain": [
       "<Figure size 640x480 with 1 Axes>"
      ]
     },
     "metadata": {},
     "output_type": "display_data"
    }
   ],
   "source": [
    "# Plot histogram of J_low\n",
    "plt.hist(update_hitran.hitran_df['J_low'], bins=24)\n",
    "plt.xlabel('J_low')\n",
    "plt.ylabel('Count')\n",
    "plt.show()"
   ]
  },
  {
   "cell_type": "code",
   "execution_count": 24,
   "id": "c6ac5d80",
   "metadata": {},
   "outputs": [
    {
     "data": {
      "text/plain": [
       "molec_id              41628\n",
       "local_iso_id          41628\n",
       "nu                    41628\n",
       "sw                    41628\n",
       "gamma_air             41628\n",
       "gamma_self            41628\n",
       "n_air                 41628\n",
       "local_upper_quanta    41628\n",
       "local_lower_quanta    41628\n",
       "J_low                 41628\n",
       "sym_low               41628\n",
       "N_low                 41628\n",
       "J_up                  41628\n",
       "sym_up                41628\n",
       "N_up                  41628\n",
       "dtype: int64"
      ]
     },
     "execution_count": 24,
     "metadata": {},
     "output_type": "execute_result"
    }
   ],
   "source": [
    "# Check non-null values\n",
    "update_hitran.hitran_df.count()"
   ]
  },
  {
   "cell_type": "markdown",
   "id": "557078bb",
   "metadata": {},
   "source": [
    "## **7.3** - Load fitted pressure broadening coefficients"
   ]
  },
  {
   "cell_type": "markdown",
   "id": "e88989b4-268d-4731-9c8b-341eee4dfa64",
   "metadata": {},
   "source": [
    "$\\rightarrow$ Next, we will use parameters of the 4th Pade equation, fitted with literature in previous notebook, to update the HITRAN data. First, let's import those coefficients we fitted in the last step: "
   ]
  },
  {
   "cell_type": "code",
   "execution_count": 25,
   "id": "9339085a",
   "metadata": {},
   "outputs": [],
   "source": [
    "# Define file path\n",
    "pbro_coeff_file = os.path.join(__reference_data_path__,'outputs','ch4_Pbroadening_4thPade.csv')\n",
    "\n",
    "# Load coefficients\n",
    "pbro = pd.read_csv(pbro_coeff_file)"
   ]
  },
  {
   "cell_type": "code",
   "execution_count": 26,
   "id": "b3d0bf1d",
   "metadata": {},
   "outputs": [
    {
     "data": {
      "text/html": [
       "<div>\n",
       "<style scoped>\n",
       "    .dataframe tbody tr th:only-of-type {\n",
       "        vertical-align: middle;\n",
       "    }\n",
       "\n",
       "    .dataframe tbody tr th {\n",
       "        vertical-align: top;\n",
       "    }\n",
       "\n",
       "    .dataframe thead th {\n",
       "        text-align: right;\n",
       "    }\n",
       "</style>\n",
       "<table border=\"1\" class=\"dataframe\">\n",
       "  <thead>\n",
       "    <tr style=\"text-align: right;\">\n",
       "      <th></th>\n",
       "      <th>coeff</th>\n",
       "      <th>abs</th>\n",
       "      <th>bro</th>\n",
       "      <th>sym_low</th>\n",
       "      <th>a0</th>\n",
       "      <th>a1</th>\n",
       "      <th>a2</th>\n",
       "      <th>a3</th>\n",
       "      <th>b1</th>\n",
       "      <th>b2</th>\n",
       "      <th>b3</th>\n",
       "      <th>b4</th>\n",
       "    </tr>\n",
       "  </thead>\n",
       "  <tbody>\n",
       "    <tr>\n",
       "      <th>0</th>\n",
       "      <td>gamma_L</td>\n",
       "      <td>CH4</td>\n",
       "      <td>H2</td>\n",
       "      <td>A1</td>\n",
       "      <td>0.070000</td>\n",
       "      <td>-28739.842754</td>\n",
       "      <td>1527.618755</td>\n",
       "      <td>-27.399937</td>\n",
       "      <td>-418580.145555</td>\n",
       "      <td>20089.246650</td>\n",
       "      <td>-104.443746</td>\n",
       "      <td>-32.870420</td>\n",
       "    </tr>\n",
       "    <tr>\n",
       "      <th>1</th>\n",
       "      <td>gamma_L</td>\n",
       "      <td>CH4</td>\n",
       "      <td>H2</td>\n",
       "      <td>A2</td>\n",
       "      <td>0.070000</td>\n",
       "      <td>-1131.894063</td>\n",
       "      <td>53.781878</td>\n",
       "      <td>-0.809802</td>\n",
       "      <td>-16484.751276</td>\n",
       "      <td>794.607473</td>\n",
       "      <td>-18.403874</td>\n",
       "      <td>-0.626174</td>\n",
       "    </tr>\n",
       "    <tr>\n",
       "      <th>2</th>\n",
       "      <td>gamma_L</td>\n",
       "      <td>CH4</td>\n",
       "      <td>H2</td>\n",
       "      <td>E</td>\n",
       "      <td>0.070000</td>\n",
       "      <td>-263.072769</td>\n",
       "      <td>22.271939</td>\n",
       "      <td>-0.683776</td>\n",
       "      <td>-3470.478648</td>\n",
       "      <td>94.003676</td>\n",
       "      <td>17.318920</td>\n",
       "      <td>-1.265039</td>\n",
       "    </tr>\n",
       "    <tr>\n",
       "      <th>3</th>\n",
       "      <td>gamma_L</td>\n",
       "      <td>CH4</td>\n",
       "      <td>H2</td>\n",
       "      <td>F1</td>\n",
       "      <td>0.069610</td>\n",
       "      <td>-0.073627</td>\n",
       "      <td>0.004083</td>\n",
       "      <td>-0.000067</td>\n",
       "      <td>-1.034819</td>\n",
       "      <td>0.033477</td>\n",
       "      <td>0.001413</td>\n",
       "      <td>-0.000087</td>\n",
       "    </tr>\n",
       "    <tr>\n",
       "      <th>4</th>\n",
       "      <td>gamma_L</td>\n",
       "      <td>CH4</td>\n",
       "      <td>H2</td>\n",
       "      <td>F2</td>\n",
       "      <td>0.068634</td>\n",
       "      <td>-0.023844</td>\n",
       "      <td>0.000785</td>\n",
       "      <td>-0.000008</td>\n",
       "      <td>-0.350065</td>\n",
       "      <td>0.013530</td>\n",
       "      <td>-0.000435</td>\n",
       "      <td>-0.000002</td>\n",
       "    </tr>\n",
       "    <tr>\n",
       "      <th>5</th>\n",
       "      <td>n_T</td>\n",
       "      <td>CH4</td>\n",
       "      <td>H2</td>\n",
       "      <td>A1</td>\n",
       "      <td>0.769970</td>\n",
       "      <td>122.591760</td>\n",
       "      <td>-23.715542</td>\n",
       "      <td>2.410308</td>\n",
       "      <td>159.244294</td>\n",
       "      <td>-15.774117</td>\n",
       "      <td>-0.647397</td>\n",
       "      <td>0.283237</td>\n",
       "    </tr>\n",
       "    <tr>\n",
       "      <th>6</th>\n",
       "      <td>n_T</td>\n",
       "      <td>CH4</td>\n",
       "      <td>H2</td>\n",
       "      <td>A2</td>\n",
       "      <td>0.769999</td>\n",
       "      <td>1785.193329</td>\n",
       "      <td>-941.443828</td>\n",
       "      <td>123.274112</td>\n",
       "      <td>2191.586313</td>\n",
       "      <td>-1038.009986</td>\n",
       "      <td>94.392414</td>\n",
       "      <td>6.840596</td>\n",
       "    </tr>\n",
       "  </tbody>\n",
       "</table>\n",
       "</div>"
      ],
      "text/plain": [
       "     coeff  abs bro sym_low        a0            a1           a2          a3  \\\n",
       "0  gamma_L  CH4  H2      A1  0.070000 -28739.842754  1527.618755  -27.399937   \n",
       "1  gamma_L  CH4  H2      A2  0.070000  -1131.894063    53.781878   -0.809802   \n",
       "2  gamma_L  CH4  H2       E  0.070000   -263.072769    22.271939   -0.683776   \n",
       "3  gamma_L  CH4  H2      F1  0.069610     -0.073627     0.004083   -0.000067   \n",
       "4  gamma_L  CH4  H2      F2  0.068634     -0.023844     0.000785   -0.000008   \n",
       "5      n_T  CH4  H2      A1  0.769970    122.591760   -23.715542    2.410308   \n",
       "6      n_T  CH4  H2      A2  0.769999   1785.193329  -941.443828  123.274112   \n",
       "\n",
       "              b1            b2          b3         b4  \n",
       "0 -418580.145555  20089.246650 -104.443746 -32.870420  \n",
       "1  -16484.751276    794.607473  -18.403874  -0.626174  \n",
       "2   -3470.478648     94.003676   17.318920  -1.265039  \n",
       "3      -1.034819      0.033477    0.001413  -0.000087  \n",
       "4      -0.350065      0.013530   -0.000435  -0.000002  \n",
       "5     159.244294    -15.774117   -0.647397   0.283237  \n",
       "6    2191.586313  -1038.009986   94.392414   6.840596  "
      ]
     },
     "execution_count": 26,
     "metadata": {},
     "output_type": "execute_result"
    }
   ],
   "source": [
    "# Display header and first 7 rows\n",
    "pbro.head(7)"
   ]
  },
  {
   "cell_type": "markdown",
   "id": "d7d0d440",
   "metadata": {},
   "source": [
    "## **7.4** - Update HITRAN with fitted P-bro data"
   ]
  },
  {
   "cell_type": "markdown",
   "id": "9f9108c5",
   "metadata": {},
   "source": [
    "$\\rightarrow$ HITRAN line lists can be very large for a given molecule and wavenumber range, often including millions of lines. \n",
    "\n",
    "$\\rightarrow$ Because of this, since we want to perform a calculation on each line, we'll use multiprocessing for this task. Parallization decreases the time to process significantly and doesn't overload memory. \n",
    "\n",
    "$\\rightarrow$ We modify each line from the HITRAN file, calculating gamma_h2, gamma_he, and n_T from J_low and sym_low, and load into a new text file. "
   ]
  },
  {
   "cell_type": "code",
   "execution_count": 27,
   "id": "cf9abc85",
   "metadata": {
    "scrolled": true
   },
   "outputs": [],
   "source": [
    "# Replace lines in HITRAN file using parallel processing\n",
    "update_hitran.replace_in_file_parallel(pb_coeffs = pbro,\n",
    "                                       save_name = 'output_v3.txt',\n",
    "                                       num_processes=8)"
   ]
  },
  {
   "cell_type": "markdown",
   "id": "6cf6e60f",
   "metadata": {},
   "source": [
    "**Check the output: Updated HITRAN line list**"
   ]
  },
  {
   "cell_type": "code",
   "execution_count": 28,
   "id": "bf36e6f7-4314-45f8-92ae-c8e751109e2d",
   "metadata": {},
   "outputs": [],
   "source": [
    "# Change file path \n",
    "update_hitran.hitran_file = os.path.join(__reference_data_path__, 'outputs', 'output_v3.txt')"
   ]
  },
  {
   "cell_type": "code",
   "execution_count": 29,
   "id": "4591d66e-2117-4db6-930a-c41064b8f400",
   "metadata": {},
   "outputs": [],
   "source": [
    "columns = {\n",
    "        'molec_id': (0, 2, int, \"%2d\"),\n",
    "        'local_iso_id': (2, 3, int, \"%1d\"),\n",
    "        'nu': (3, 15, float, \"%12.6f\"),\n",
    "        'sw': (15, 25, float, \"%10.3e\"),\n",
    "        'a': (25, 35, float, \"%10.3e\"),\n",
    "        'gamma_H2': (35, 40, float, \"%5.4f\"),\n",
    "        'gamma_He': (40, 45, float, \"%5.3f\"),\n",
    "        'elower': (45, 55, float, \"%10.4f\"),\n",
    "        'n_T': (55, 59, float, \"%4.2f\"),\n",
    "        'delta_air': (59, 67, float, \"%8.6f\"),\n",
    "        'global_upper_quanta': (67, 82, str, \"%15s\"),\n",
    "        'global_lower_quanta': (82, 97, str, \"%15s\"),\n",
    "        'local_upper_quanta': (97, 112, str, \"%15s\"),\n",
    "        'local_lower_quanta': (112, 127, str, \"%15s\"),\n",
    "        'ierr': (127, 128, int, \"%1d\"),\n",
    "        'iref': (128, 130, int, \"%2d\"),\n",
    "        'line_mixing_flag': (130, 131, str, \"%1s\"),\n",
    "        'gp': (131, 138, float, \"%7.1f\"),\n",
    "        'gpp': (138, 145, float, \"%7.1f\")\n",
    "        }"
   ]
  },
  {
   "cell_type": "code",
   "execution_count": 31,
   "id": "53c1b583-4c36-4bc6-9328-9c14b825e6d0",
   "metadata": {},
   "outputs": [
    {
     "ename": "KeyError",
     "evalue": "'gamma_H2'",
     "output_type": "error",
     "traceback": [
      "\u001b[0;31m---------------------------------------------------------------------------\u001b[0m",
      "\u001b[0;31mKeyError\u001b[0m                                  Traceback (most recent call last)",
      "Cell \u001b[0;32mIn[31], line 2\u001b[0m\n\u001b[1;32m      1\u001b[0m \u001b[38;5;66;03m# Parse edited file\u001b[39;00m\n\u001b[0;32m----> 2\u001b[0m update_hitran\u001b[38;5;241m.\u001b[39mparse_hitran_file(selected_columns\u001b[38;5;241m=\u001b[39mcolumns)\n\u001b[1;32m      3\u001b[0m edited_df \u001b[38;5;241m=\u001b[39m update_hitran\u001b[38;5;241m.\u001b[39mhitran_df\n\u001b[1;32m      5\u001b[0m \u001b[38;5;66;03m# Show header\u001b[39;00m\n",
      "File \u001b[0;32m~/RESEARCH/ml/projects/Xpectra_project/Xpectra/Xpectra/FitLiteratureData.py:156\u001b[0m, in \u001b[0;36mFitLiteratureData.parse_hitran_file\u001b[0;34m(self, selected_columns)\u001b[0m\n\u001b[1;32m    148\u001b[0m \u001b[38;5;28;01mdef\u001b[39;00m \u001b[38;5;21mparse_hitran_file\u001b[39m(\u001b[38;5;28mself\u001b[39m, \n\u001b[1;32m    149\u001b[0m                     selected_columns \u001b[38;5;241m=\u001b[39m [\u001b[38;5;124m'\u001b[39m\u001b[38;5;124mmolec_id\u001b[39m\u001b[38;5;124m'\u001b[39m, \u001b[38;5;124m'\u001b[39m\u001b[38;5;124mlocal_iso_id\u001b[39m\u001b[38;5;124m'\u001b[39m, \n\u001b[1;32m    150\u001b[0m                     \u001b[38;5;124m'\u001b[39m\u001b[38;5;124mnu\u001b[39m\u001b[38;5;124m'\u001b[39m, \u001b[38;5;124m'\u001b[39m\u001b[38;5;124msw\u001b[39m\u001b[38;5;124m'\u001b[39m, \u001b[38;5;124m'\u001b[39m\u001b[38;5;124mgamma_air\u001b[39m\u001b[38;5;124m'\u001b[39m,\u001b[38;5;124m'\u001b[39m\u001b[38;5;124mgamma_self\u001b[39m\u001b[38;5;124m'\u001b[39m, \u001b[38;5;124m'\u001b[39m\u001b[38;5;124mn_air\u001b[39m\u001b[38;5;124m'\u001b[39m, \n\u001b[1;32m    151\u001b[0m                     \u001b[38;5;124m'\u001b[39m\u001b[38;5;124mlocal_upper_quanta\u001b[39m\u001b[38;5;124m'\u001b[39m, \u001b[38;5;124m'\u001b[39m\u001b[38;5;124mlocal_lower_quanta\u001b[39m\u001b[38;5;124m'\u001b[39m]\n\u001b[1;32m    152\u001b[0m                     ):\n\u001b[1;32m    153\u001b[0m \u001b[38;5;250m    \u001b[39m\u001b[38;5;124;03m\"\"\"\u001b[39;00m\n\u001b[1;32m    154\u001b[0m \u001b[38;5;124;03m    Using LineAssigner parse_file_to_dataframe, convert HITRAN file to DataFrame.\u001b[39;00m\n\u001b[1;32m    155\u001b[0m \u001b[38;5;124;03m    \"\"\"\u001b[39;00m\n\u001b[0;32m--> 156\u001b[0m     df \u001b[38;5;241m=\u001b[39m \u001b[38;5;28mself\u001b[39m\u001b[38;5;241m.\u001b[39mline_assigner_instance\u001b[38;5;241m.\u001b[39mparse_file_to_dataframe(selected_columns\u001b[38;5;241m=\u001b[39mselected_columns)\n\u001b[1;32m    158\u001b[0m     \u001b[38;5;28mself\u001b[39m\u001b[38;5;241m.\u001b[39mhitran_df \u001b[38;5;241m=\u001b[39m df\n",
      "File \u001b[0;32m~/RESEARCH/ml/projects/Xpectra_project/Xpectra/Xpectra/LineAssigner.py:282\u001b[0m, in \u001b[0;36mLineAssigner.parse_file_to_dataframe\u001b[0;34m(self, selected_columns)\u001b[0m\n\u001b[1;32m    280\u001b[0m \u001b[38;5;66;03m# Filter columns based on selected_columns\u001b[39;00m\n\u001b[1;32m    281\u001b[0m \u001b[38;5;28;01mif\u001b[39;00m selected_columns:\n\u001b[0;32m--> 282\u001b[0m     columns_to_use \u001b[38;5;241m=\u001b[39m {key: columns[key] \u001b[38;5;28;01mfor\u001b[39;00m key \u001b[38;5;129;01min\u001b[39;00m selected_columns}\n\u001b[1;32m    283\u001b[0m \u001b[38;5;28;01melse\u001b[39;00m: \n\u001b[1;32m    284\u001b[0m     columns_to_use \u001b[38;5;241m=\u001b[39m columns\n",
      "File \u001b[0;32m~/RESEARCH/ml/projects/Xpectra_project/Xpectra/Xpectra/LineAssigner.py:282\u001b[0m, in \u001b[0;36m<dictcomp>\u001b[0;34m(.0)\u001b[0m\n\u001b[1;32m    280\u001b[0m \u001b[38;5;66;03m# Filter columns based on selected_columns\u001b[39;00m\n\u001b[1;32m    281\u001b[0m \u001b[38;5;28;01mif\u001b[39;00m selected_columns:\n\u001b[0;32m--> 282\u001b[0m     columns_to_use \u001b[38;5;241m=\u001b[39m {key: columns[key] \u001b[38;5;28;01mfor\u001b[39;00m key \u001b[38;5;129;01min\u001b[39;00m selected_columns}\n\u001b[1;32m    283\u001b[0m \u001b[38;5;28;01melse\u001b[39;00m: \n\u001b[1;32m    284\u001b[0m     columns_to_use \u001b[38;5;241m=\u001b[39m columns\n",
      "\u001b[0;31mKeyError\u001b[0m: 'gamma_H2'"
     ]
    }
   ],
   "source": [
    "# Parse edited file\n",
    "update_hitran.parse_hitran_file(selected_columns=columns)\n",
    "edited_df = update_hitran.hitran_df\n",
    "\n",
    "# Show header\n",
    "edited_df.head()"
   ]
  },
  {
   "cell_type": "markdown",
   "id": "08611bd7",
   "metadata": {},
   "source": [
    "**Visualize calculated values: $\\gamma_{H_{2}}$, $\\gamma_{He}$, and n$_{T}$ versus J$_{low}$**"
   ]
  },
  {
   "cell_type": "code",
   "execution_count": null,
   "id": "368191b8",
   "metadata": {},
   "outputs": [],
   "source": [
    "# Mapping symmetry to colors\n",
    "color_dict = {\n",
    "    'A1': '#1f77b4',  \n",
    "    'A2': '#ff7f0e',  \n",
    "    'E':  '#2ca02c', \n",
    "    'F1': '#d62728',  \n",
    "    'F2': '#9467bd',\n",
    "    None: 'k'\n",
    "    }\n",
    "color_values = edited_df['sym_low'].map(color_dict)"
   ]
  },
  {
   "cell_type": "code",
   "execution_count": null,
   "id": "1aaa8bed",
   "metadata": {},
   "outputs": [],
   "source": [
    "# Create Figure\n",
    "fig, axes = plt.subplots(3,1, figsize=(8,10), dpi=110)\n",
    "ax1,ax2,ax3 = axes\n",
    "\n",
    "ax1.scatter(edited_df['J_low'], edited_df['gamma_H2'],s=10,alpha=0.05,c=color_values)\n",
    "ax1.set_ylabel('gamma_H2')\n",
    "\n",
    "ax2.scatter(edited_df['J_low'], edited_df['gamma_He'],s=10,alpha=0.05,c=color_values)\n",
    "ax2.set_ylabel('gamma_He')\n",
    "\n",
    "ax3.scatter(edited_df['J_low'], edited_df['n_T'],s=10,alpha=0.05,c=color_values)\n",
    "ax3.set_ylabel('n_T')\n",
    "\n",
    "for ax in (ax1,ax2,ax3):\n",
    "    ax.set_xlabel('J_low')\n",
    "\n",
    "# Create legend on the right side\n",
    "unique_sym_values = edited_df['sym_low'].unique()\n",
    "handles = [plt.Line2D([0], [0], marker='o', color='w', label=str(value), \n",
    "                      markersize=6, markerfacecolor=color_dict[value]) for value in unique_sym_values]\n",
    "fig.legend(handles=handles, title='sym_low', loc='center left', bbox_to_anchor=(0.85, 0.5))\n",
    "\n",
    "plt.tight_layout(rect=[0, 0, 0.85, 1])\n",
    "plt.show()"
   ]
  },
  {
   "cell_type": "code",
   "execution_count": null,
   "id": "52423f03-2ced-4a59-9409-0b69ba3409e1",
   "metadata": {},
   "outputs": [],
   "source": []
  }
 ],
 "metadata": {
  "kernelspec": {
   "display_name": "Python 3 (ipykernel)",
   "language": "python",
   "name": "python3"
  },
  "language_info": {
   "codemirror_mode": {
    "name": "ipython",
    "version": 3
   },
   "file_extension": ".py",
   "mimetype": "text/x-python",
   "name": "python",
   "nbconvert_exporter": "python",
   "pygments_lexer": "ipython3",
   "version": "3.11.10"
  }
 },
 "nbformat": 4,
 "nbformat_minor": 5
}
